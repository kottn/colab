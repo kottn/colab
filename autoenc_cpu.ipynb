{
  "nbformat": 4,
  "nbformat_minor": 0,
  "metadata": {
    "colab": {
      "name": "Untitled0.ipynb",
      "version": "0.3.2",
      "provenance": [],
      "toc_visible": true,
      "include_colab_link": true
    },
    "kernelspec": {
      "name": "python3",
      "display_name": "Python 3"
    }
  },
  "cells": [
    {
      "cell_type": "markdown",
      "metadata": {
        "id": "view-in-github",
        "colab_type": "text"
      },
      "source": [
        "<a href=\"https://colab.research.google.com/github/kottn/colab/blob/master/autoenc_cpu.ipynb\" target=\"_parent\"><img src=\"https://colab.research.google.com/assets/colab-badge.svg\" alt=\"Open In Colab\"/></a>"
      ]
    },
    {
      "cell_type": "code",
      "metadata": {
        "id": "sXRndTeGJx8b",
        "colab_type": "code",
        "colab": {}
      },
      "source": [
        ""
      ],
      "execution_count": 0,
      "outputs": []
    },
    {
      "cell_type": "markdown",
      "metadata": {
        "id": "7d4RD3AMJ5O6",
        "colab_type": "text"
      },
      "source": [
        "## てすと"
      ]
    },
    {
      "cell_type": "code",
      "metadata": {
        "id": "2COOEmnzFlhu",
        "colab_type": "code",
        "colab": {}
      },
      "source": [
        "a=3"
      ],
      "execution_count": 0,
      "outputs": []
    },
    {
      "cell_type": "code",
      "metadata": {
        "id": "76djl1ZrFoEY",
        "colab_type": "code",
        "colab": {
          "base_uri": "https://localhost:8080/",
          "height": 34
        },
        "outputId": "8667d567-16f1-48c2-a1de-1e79602c077f"
      },
      "source": [
        "a"
      ],
      "execution_count": 27,
      "outputs": [
        {
          "output_type": "execute_result",
          "data": {
            "text/plain": [
              "3"
            ]
          },
          "metadata": {
            "tags": []
          },
          "execution_count": 27
        }
      ]
    },
    {
      "cell_type": "markdown",
      "metadata": {
        "id": "Cxbgq8UsCVDL",
        "colab_type": "text"
      },
      "source": [
        "## MNIST データをもってくる"
      ]
    },
    {
      "cell_type": "code",
      "metadata": {
        "id": "qjQMVVpeB55d",
        "colab_type": "code",
        "colab": {
          "base_uri": "https://localhost:8080/",
          "height": 68
        },
        "outputId": "d6b2baf9-0500-4878-9473-a51485d2bdcb"
      },
      "source": [
        "\n",
        "from keras.datasets import mnist\n",
        "\n",
        "(x_train, y_train), (x_test, y_test) = mnist.load_data()"
      ],
      "execution_count": 1,
      "outputs": [
        {
          "output_type": "stream",
          "text": [
            "Using TensorFlow backend.\n"
          ],
          "name": "stderr"
        },
        {
          "output_type": "stream",
          "text": [
            "Downloading data from https://s3.amazonaws.com/img-datasets/mnist.npz\n",
            "11493376/11490434 [==============================] - 1s 0us/step\n"
          ],
          "name": "stdout"
        }
      ]
    },
    {
      "cell_type": "code",
      "metadata": {
        "id": "MuYqKAAzCmej",
        "colab_type": "code",
        "colab": {
          "base_uri": "https://localhost:8080/",
          "height": 34
        },
        "outputId": "8f34b0b8-ee4a-4fac-fc34-7e37f3bc03e5"
      },
      "source": [
        "x_train.shape, x_test.shape"
      ],
      "execution_count": 3,
      "outputs": [
        {
          "output_type": "execute_result",
          "data": {
            "text/plain": [
              "((60000, 28, 28), (10000, 28, 28))"
            ]
          },
          "metadata": {
            "tags": []
          },
          "execution_count": 3
        }
      ]
    },
    {
      "cell_type": "code",
      "metadata": {
        "id": "d17mWbrUC0Cb",
        "colab_type": "code",
        "colab": {
          "base_uri": "https://localhost:8080/",
          "height": 286
        },
        "outputId": "e037a082-7ec9-4bba-eeb6-5eff7f793a18"
      },
      "source": [
        "import matplotlib.pyplot as plt\n",
        "\n",
        "plt.imshow(x_train[1000])"
      ],
      "execution_count": 4,
      "outputs": [
        {
          "output_type": "execute_result",
          "data": {
            "text/plain": [
              "<matplotlib.image.AxesImage at 0x7f97a0ea2a20>"
            ]
          },
          "metadata": {
            "tags": []
          },
          "execution_count": 4
        },
        {
          "output_type": "display_data",
          "data": {
            "image/png": "[encoded data removed]",
            "text/plain": [
              "<Figure size 432x288 with 1 Axes>"
            ]
          },
          "metadata": {
            "tags": []
          }
        }
      ]
    },
    {
      "cell_type": "markdown",
      "metadata": {
        "id": "31KNtfjtC4KL",
        "colab_type": "text"
      },
      "source": [
        "## 前処理しとく"
      ]
    },
    {
      "cell_type": "code",
      "metadata": {
        "id": "kquqt5WCC-qL",
        "colab_type": "code",
        "colab": {
          "base_uri": "https://localhost:8080/",
          "height": 34
        },
        "outputId": "4991ed96-5a34-4c64-e4fe-cd7544f4bd27"
      },
      "source": [
        "x_train.min(), x_train.max()"
      ],
      "execution_count": 5,
      "outputs": [
        {
          "output_type": "execute_result",
          "data": {
            "text/plain": [
              "(0, 255)"
            ]
          },
          "metadata": {
            "tags": []
          },
          "execution_count": 5
        }
      ]
    },
    {
      "cell_type": "code",
      "metadata": {
        "id": "jRRbIMeTDBVb",
        "colab_type": "code",
        "colab": {
          "base_uri": "https://localhost:8080/",
          "height": 34
        },
        "outputId": "88259089-ae90-4173-9049-fe94ced72350"
      },
      "source": [
        "x_train = x_train / 255.\n",
        "x_test = x_test / 255.\n",
        "\n",
        "x_train.min(), x_train.max()"
      ],
      "execution_count": 9,
      "outputs": [
        {
          "output_type": "execute_result",
          "data": {
            "text/plain": [
              "(0.0, 6.030862941101084e-08)"
            ]
          },
          "metadata": {
            "tags": []
          },
          "execution_count": 9
        }
      ]
    },
    {
      "cell_type": "code",
      "metadata": {
        "id": "18Q0iJqDDJps",
        "colab_type": "code",
        "colab": {}
      },
      "source": [
        "x_train = x_train.reshape((60000,28,28,1))\n",
        "x_test = x_test.reshape((10000,28,28,1))"
      ],
      "execution_count": 0,
      "outputs": []
    },
    {
      "cell_type": "code",
      "metadata": {
        "id": "C0NWT6AdDOkM",
        "colab_type": "code",
        "colab": {}
      },
      "source": [
        "import copy\n",
        "\n",
        "x_input_train = copy.deepcopy(x_train[:50000])\n",
        "x_output_train = copy.deepcopy(x_train[:50000])\n",
        "\n",
        "x_input_val = copy.deepcopy(x_train[50000:])\n",
        "x_output_val = copy.deepcopy(x_train[50000:])\n",
        "\n",
        "x_input_test = copy.deepcopy(x_test)\n",
        "x_output_test = copy.deepcopy(x_test)"
      ],
      "execution_count": 0,
      "outputs": []
    },
    {
      "cell_type": "code",
      "metadata": {
        "id": "XT4jVUB-DQV7",
        "colab_type": "code",
        "colab": {}
      },
      "source": [
        "\n",
        "import numpy as np\n",
        "import cv2\n",
        "\n",
        "# Denoising\n",
        "#x_input_train = x_input_train + np.random.random(size=x_input_train.shape) * 0.5\n",
        "#x_input_val = x_input_val + np.random.random(size=x_input_val.shape) * 0.5\n",
        "#x_input_test = x_input_test + np.random.random(size=x_input_test.shape) * 0.5\n",
        "\n",
        "#x_input_train = x_input_train + np.random.random(size=x_input_train.shape) * 5.\n",
        "#x_input_val = x_input_val + np.random.random(size=x_input_val.shape) * 5.\n",
        "#x_input_test = x_input_test + np.random.random(size=x_input_test.shape) * 5.\n",
        "\n",
        "# Inpainting\n",
        "#x_input_train[:,:,:14,:] = np.random.random(size=[50000,28,14,1])\n",
        "#x_input_val[:,:,:14,:] = np.random.random(size=[10000,28,14,1])\n",
        "#x_input_test[:,:,:14,:] = np.random.random(size=[10000,28,14,1])\n",
        "\n",
        "# Superresolution\n",
        "x_input_train = np.expand_dims(np.array([cv2.resize(x, (7,7)) for x in x_input_train]), -1)\n",
        "x_input_val = np.expand_dims(np.array([cv2.resize(x, (7,7)) for x in x_input_val]), -1)\n",
        "x_input_test = np.expand_dims(np.array([cv2.resize(x, (7,7)) for x in x_input_test]), -1)"
      ],
      "execution_count": 0,
      "outputs": []
    },
    {
      "cell_type": "code",
      "metadata": {
        "id": "TLxPXOsIDdW7",
        "colab_type": "code",
        "colab": {
          "base_uri": "https://localhost:8080/",
          "height": 286
        },
        "outputId": "2b906184-d288-4a1d-a2d8-9eefcee27888"
      },
      "source": [
        "plt.imshow(x_input_train[1000].squeeze())"
      ],
      "execution_count": 15,
      "outputs": [
        {
          "output_type": "execute_result",
          "data": {
            "text/plain": [
              "<matplotlib.image.AxesImage at 0x7f979663c588>"
            ]
          },
          "metadata": {
            "tags": []
          },
          "execution_count": 15
        },
        {
          "output_type": "display_data",
          "data": {
            "image/png": "[encoded data removed]",
            "text/plain": [
              "<Figure size 432x288 with 1 Axes>"
            ]
          },
          "metadata": {
            "tags": []
          }
        }
      ]
    },
    {
      "cell_type": "code",
      "metadata": {
        "id": "7zJ_jt5WDf00",
        "colab_type": "code",
        "colab": {
          "base_uri": "https://localhost:8080/",
          "height": 286
        },
        "outputId": "dc0251cd-9ea4-4b53-8de3-8f70498ec9d6"
      },
      "source": [
        "plt.imshow(x_output_train[1000].squeeze())"
      ],
      "execution_count": 16,
      "outputs": [
        {
          "output_type": "execute_result",
          "data": {
            "text/plain": [
              "<matplotlib.image.AxesImage at 0x7f979659ee48>"
            ]
          },
          "metadata": {
            "tags": []
          },
          "execution_count": 16
        },
        {
          "output_type": "display_data",
          "data": {
            "image/png": "[encoded data removed]",
            "text/plain": [
              "<Figure size 432x288 with 1 Axes>"
            ]
          },
          "metadata": {
            "tags": []
          }
        }
      ]
    },
    {
      "cell_type": "markdown",
      "metadata": {
        "id": "9mL4xESMDh5r",
        "colab_type": "text"
      },
      "source": [
        "## ニューラルネットを作る"
      ]
    },
    {
      "cell_type": "code",
      "metadata": {
        "id": "H-NtPYB3Dkir",
        "colab_type": "code",
        "colab": {}
      },
      "source": [
        "from keras.layers import Input, BatchNormalization, Activation, Conv2D, UpSampling2D"
      ],
      "execution_count": 0,
      "outputs": []
    },
    {
      "cell_type": "code",
      "metadata": {
        "id": "MfZPHbT6DqNM",
        "colab_type": "code",
        "colab": {}
      },
      "source": [
        "if False:\n",
        "  input_tensor = Input((28,28,1))\n",
        "  \n",
        "  h = Activation('relu')(input_tensor)\n",
        "  h = BatchNormalization()(h)\n",
        "  h = Conv2D(16, (3,3), padding='same')(h)\n",
        "\n",
        "  h = Activation('relu')(h)\n",
        "  h = BatchNormalization()(h)\n",
        "  h = Conv2D(1, (3,3), padding='same')(h)\n",
        "\n",
        "  output_tensor = Activation('sigmoid')(h)\n",
        "  \n",
        "  \n",
        "if False:\n",
        "  input_tensor = Input((28,28,1))\n",
        "  \n",
        "  h = Activation('relu')(input_tensor)\n",
        "  h = BatchNormalization()(h)\n",
        "  h = Conv2D(16, (3,3), padding='same')(h)\n",
        "  \n",
        "  h = Activation('relu')(h)\n",
        "  h = BatchNormalization()(h)\n",
        "  h = Conv2D(32, (3,3), padding='same', strides=2)(h)\n",
        "\n",
        "  h = Activation('relu')(h)\n",
        "  h = BatchNormalization()(h)\n",
        "  h = Conv2D(32, (3,3), padding='same')(h)\n",
        "\n",
        "  h = UpSampling2D()(h)  \n",
        "\n",
        "  h = Activation('relu')(h)\n",
        "  h = BatchNormalization()(h)\n",
        "  h = Conv2D(16, (3,3), padding='same')(h)\n",
        "\n",
        "  h = Activation('relu')(h)\n",
        "  h = BatchNormalization()(h)\n",
        "  h = Conv2D(1, (3,3), padding='same')(h)\n",
        "\n",
        "  output_tensor = Activation('sigmoid')(h)\n",
        "  \n",
        "if False:\n",
        "  input_tensor = Input((28,28,1))\n",
        "  \n",
        "  nb_ch = 16\n",
        "  \n",
        "  h = Activation('relu')(input_tensor)\n",
        "  h = BatchNormalization()(h)\n",
        "  h = Conv2D(nb_ch, (3,3), padding='same')(h)\n",
        "  \n",
        "  nb_ch *= 2\n",
        "\n",
        "  h = Activation('relu')(h)\n",
        "  h = BatchNormalization()(h)\n",
        "  h = Conv2D(nb_ch, (3,3), padding='same', strides=2)(h)\n",
        "\n",
        "  h = Activation('relu')(h)\n",
        "  h = BatchNormalization()(h)\n",
        "  h = Conv2D(nb_ch, (3,3), padding='same')(h)\n",
        "\n",
        "  nb_ch *= 2\n",
        "\n",
        "  h = Activation('relu')(h)\n",
        "  h = BatchNormalization()(h)\n",
        "  h = Conv2D(nb_ch, (3,3), padding='same', strides=2)(h)\n",
        "\n",
        "  h = Activation('relu')(h)\n",
        "  h = BatchNormalization()(h)\n",
        "  h = Conv2D(nb_ch, (3,3), padding='same')(h)\n",
        "\n",
        "  h = UpSampling2D()(h)  \n",
        "  nb_ch //= 2\n",
        "\n",
        "  h = Activation('relu')(h)\n",
        "  h = BatchNormalization()(h)\n",
        "  h = Conv2D(nb_ch, (3,3), padding='same')(h)\n",
        "\n",
        "  h = Activation('relu')(h)\n",
        "  h = BatchNormalization()(h)\n",
        "  h = Conv2D(nb_ch, (3,3), padding='same')(h)\n",
        "\n",
        "  h = UpSampling2D()(h)\n",
        "  nb_ch //= 2\n",
        "\n",
        "  h = Activation('relu')(h)\n",
        "  h = BatchNormalization()(h)\n",
        "  h = Conv2D(nb_ch, (3,3), padding='same')(h)\n",
        "\n",
        "  h = Activation('relu')(h)\n",
        "  h = BatchNormalization()(h)\n",
        "  h = Conv2D(nb_ch, (3,3), padding='same')(h)\n",
        "\n",
        "  h = Activation('relu')(h)\n",
        "  h = BatchNormalization()(h)\n",
        "  h = Conv2D(1, (3,3), padding='same')(h)\n",
        "\n",
        "  output_tensor = Activation('sigmoid')(h)\n",
        "  \n",
        "if True:\n",
        "  input_tensor = Input((7,7,1))\n",
        "  \n",
        "  h = Activation('relu')(input_tensor)\n",
        "  h = BatchNormalization()(h)\n",
        "  h = Conv2D(16, (3,3), padding='same')(h)\n",
        "\n",
        "  h = UpSampling2D()(h)\n",
        "\n",
        "  h = Activation('relu')(h)\n",
        "  h = BatchNormalization()(h)\n",
        "  h = Conv2D(32, (3,3), padding='same')(h)\n",
        "\n",
        "  h = UpSampling2D()(h)\n",
        "\n",
        "  h = Activation('relu')(h)\n",
        "  h = BatchNormalization()(h)\n",
        "  h = Conv2D(64, (3,3), padding='same')(h)\n",
        "  \n",
        "  h = Activation('relu')(h)\n",
        "  h = BatchNormalization()(h)\n",
        "  h = Conv2D(1, (3,3), padding='same')(h)\n",
        "  \n",
        "  output_tensor = Activation('sigmoid')(h)"
      ],
      "execution_count": 0,
      "outputs": []
    },
    {
      "cell_type": "code",
      "metadata": {
        "id": "jUQEgVC9Dv5j",
        "colab_type": "code",
        "colab": {}
      },
      "source": [
        "from keras.models import Model\n",
        "\n",
        "auto_encoder = Model(input_tensor, output_tensor)"
      ],
      "execution_count": 0,
      "outputs": []
    },
    {
      "cell_type": "code",
      "metadata": {
        "id": "DQigcmkcD1AL",
        "colab_type": "code",
        "colab": {}
      },
      "source": [
        "auto_encoder.compile(loss='mse', optimizer='adam')"
      ],
      "execution_count": 0,
      "outputs": []
    },
    {
      "cell_type": "code",
      "metadata": {
        "id": "kTa5eY-ZD4Ur",
        "colab_type": "code",
        "colab": {
          "base_uri": "https://localhost:8080/",
          "height": 680
        },
        "outputId": "abb24754-6a10-4cc7-c46f-19619a1f18eb"
      },
      "source": [
        "auto_encoder.summary()"
      ],
      "execution_count": 25,
      "outputs": [
        {
          "output_type": "stream",
          "text": [
            "_________________________________________________________________\n",
            "Layer (type)                 Output Shape              Param #   \n",
            "=================================================================\n",
            "input_2 (InputLayer)         (None, 7, 7, 1)           0         \n",
            "_________________________________________________________________\n",
            "activation_6 (Activation)    (None, 7, 7, 1)           0         \n",
            "_________________________________________________________________\n",
            "batch_normalization_5 (Batch (None, 7, 7, 1)           4         \n",
            "_________________________________________________________________\n",
            "conv2d_5 (Conv2D)            (None, 7, 7, 16)          160       \n",
            "_________________________________________________________________\n",
            "up_sampling2d_3 (UpSampling2 (None, 14, 14, 16)        0         \n",
            "_________________________________________________________________\n",
            "activation_7 (Activation)    (None, 14, 14, 16)        0         \n",
            "_________________________________________________________________\n",
            "batch_normalization_6 (Batch (None, 14, 14, 16)        64        \n",
            "_________________________________________________________________\n",
            "conv2d_6 (Conv2D)            (None, 14, 14, 32)        4640      \n",
            "_________________________________________________________________\n",
            "up_sampling2d_4 (UpSampling2 (None, 28, 28, 32)        0         \n",
            "_________________________________________________________________\n",
            "activation_8 (Activation)    (None, 28, 28, 32)        0         \n",
            "_________________________________________________________________\n",
            "batch_normalization_7 (Batch (None, 28, 28, 32)        128       \n",
            "_________________________________________________________________\n",
            "conv2d_7 (Conv2D)            (None, 28, 28, 64)        18496     \n",
            "_________________________________________________________________\n",
            "activation_9 (Activation)    (None, 28, 28, 64)        0         \n",
            "_________________________________________________________________\n",
            "batch_normalization_8 (Batch (None, 28, 28, 64)        256       \n",
            "_________________________________________________________________\n",
            "conv2d_8 (Conv2D)            (None, 28, 28, 1)         577       \n",
            "_________________________________________________________________\n",
            "activation_10 (Activation)   (None, 28, 28, 1)         0         \n",
            "=================================================================\n",
            "Total params: 24,325\n",
            "Trainable params: 24,099\n",
            "Non-trainable params: 226\n",
            "_________________________________________________________________\n"
          ],
          "name": "stdout"
        }
      ]
    },
    {
      "cell_type": "code",
      "metadata": {
        "id": "gbbPYxgtFypv",
        "colab_type": "code",
        "colab": {
          "base_uri": "https://localhost:8080/",
          "height": 1000
        },
        "outputId": "01e58672-c358-4338-8ad0-72b4bfffcd53"
      },
      "source": [
        "from IPython.display import SVG\n",
        "from keras.utils.vis_utils import model_to_dot\n",
        "\n",
        "SVG(model_to_dot(auto_encoder, show_shapes=True).create(prog='dot', format='svg'))"
      ],
      "execution_count": 28,
      "outputs": [
        {
          "output_type": "execute_result",
          "data": {
            "text/plain": [
              "<IPython.core.display.SVG object>"
            ],
            "image/svg+xml": "<svg height=\"1300pt\" viewBox=\"0.00 0.00 462.00 1300.00\" width=\"462pt\" xmlns=\"http://www.w3.org/2000/svg\" xmlns:xlink=\"http://www.w3.org/1999/xlink\">\n<g class=\"graph\" id=\"graph0\" transform=\"scale(1 1) rotate(0) translate(4 1296)\">\n<title>G</title>\n<polygon fill=\"#ffffff\" points=\"-4,4 -4,-1296 458,-1296 458,4 -4,4\" stroke=\"transparent\"/>\n<!-- 140289036169568 -->\n<g class=\"node\" id=\"node1\">\n<title>140289036169568</title>\n<polygon fill=\"none\" points=\"80.5,-1245.5 80.5,-1291.5 373.5,-1291.5 373.5,-1245.5 80.5,-1245.5\" stroke=\"#000000\"/>\n<text fill=\"#000000\" font-family=\"Times,serif\" font-size=\"14.00\" text-anchor=\"middle\" x=\"147\" y=\"-1264.8\">input_2: InputLayer</text>\n<polyline fill=\"none\" points=\"213.5,-1245.5 213.5,-1291.5 \" stroke=\"#000000\"/>\n<text fill=\"#000000\" font-family=\"Times,serif\" font-size=\"14.00\" text-anchor=\"middle\" x=\"242.5\" y=\"-1276.3\">input:</text>\n<polyline fill=\"none\" points=\"213.5,-1268.5 271.5,-1268.5 \" stroke=\"#000000\"/>\n<text fill=\"#000000\" font-family=\"Times,serif\" font-size=\"14.00\" text-anchor=\"middle\" x=\"242.5\" y=\"-1253.3\">output:</text>\n<polyline fill=\"none\" points=\"271.5,-1245.5 271.5,-1291.5 \" stroke=\"#000000\"/>\n<text fill=\"#000000\" font-family=\"Times,serif\" font-size=\"14.00\" text-anchor=\"middle\" x=\"322.5\" y=\"-1276.3\">(None, 7, 7, 1)</text>\n<polyline fill=\"none\" points=\"271.5,-1268.5 373.5,-1268.5 \" stroke=\"#000000\"/>\n<text fill=\"#000000\" font-family=\"Times,serif\" font-size=\"14.00\" text-anchor=\"middle\" x=\"322.5\" y=\"-1253.3\">(None, 7, 7, 1)</text>\n</g>\n<!-- 140289036170464 -->\n<g class=\"node\" id=\"node2\">\n<title>140289036170464</title>\n<polygon fill=\"none\" points=\"70,-1162.5 70,-1208.5 384,-1208.5 384,-1162.5 70,-1162.5\" stroke=\"#000000\"/>\n<text fill=\"#000000\" font-family=\"Times,serif\" font-size=\"14.00\" text-anchor=\"middle\" x=\"147\" y=\"-1181.8\">activation_6: Activation</text>\n<polyline fill=\"none\" points=\"224,-1162.5 224,-1208.5 \" stroke=\"#000000\"/>\n<text fill=\"#000000\" font-family=\"Times,serif\" font-size=\"14.00\" text-anchor=\"middle\" x=\"253\" y=\"-1193.3\">input:</text>\n<polyline fill=\"none\" points=\"224,-1185.5 282,-1185.5 \" stroke=\"#000000\"/>\n<text fill=\"#000000\" font-family=\"Times,serif\" font-size=\"14.00\" text-anchor=\"middle\" x=\"253\" y=\"-1170.3\">output:</text>\n<polyline fill=\"none\" points=\"282,-1162.5 282,-1208.5 \" stroke=\"#000000\"/>\n<text fill=\"#000000\" font-family=\"Times,serif\" font-size=\"14.00\" text-anchor=\"middle\" x=\"333\" y=\"-1193.3\">(None, 7, 7, 1)</text>\n<polyline fill=\"none\" points=\"282,-1185.5 384,-1185.5 \" stroke=\"#000000\"/>\n<text fill=\"#000000\" font-family=\"Times,serif\" font-size=\"14.00\" text-anchor=\"middle\" x=\"333\" y=\"-1170.3\">(None, 7, 7, 1)</text>\n</g>\n<!-- 140289036169568&#45;&gt;140289036170464 -->\n<g class=\"edge\" id=\"edge1\">\n<title>140289036169568-&gt;140289036170464</title>\n<path d=\"M227,-1245.3799C227,-1237.1745 227,-1227.7679 227,-1218.8786\" fill=\"none\" stroke=\"#000000\"/>\n<polygon fill=\"#000000\" points=\"230.5001,-1218.784 227,-1208.784 223.5001,-1218.784 230.5001,-1218.784\" stroke=\"#000000\"/>\n</g>\n<!-- 140289036169736 -->\n<g class=\"node\" id=\"node3\">\n<title>140289036169736</title>\n<polygon fill=\"none\" points=\"11.5,-1079.5 11.5,-1125.5 442.5,-1125.5 442.5,-1079.5 11.5,-1079.5\" stroke=\"#000000\"/>\n<text fill=\"#000000\" font-family=\"Times,serif\" font-size=\"14.00\" text-anchor=\"middle\" x=\"147\" y=\"-1098.8\">batch_normalization_5: BatchNormalization</text>\n<polyline fill=\"none\" points=\"282.5,-1079.5 282.5,-1125.5 \" stroke=\"#000000\"/>\n<text fill=\"#000000\" font-family=\"Times,serif\" font-size=\"14.00\" text-anchor=\"middle\" x=\"311.5\" y=\"-1110.3\">input:</text>\n<polyline fill=\"none\" points=\"282.5,-1102.5 340.5,-1102.5 \" stroke=\"#000000\"/>\n<text fill=\"#000000\" font-family=\"Times,serif\" font-size=\"14.00\" text-anchor=\"middle\" x=\"311.5\" y=\"-1087.3\">output:</text>\n<polyline fill=\"none\" points=\"340.5,-1079.5 340.5,-1125.5 \" stroke=\"#000000\"/>\n<text fill=\"#000000\" font-family=\"Times,serif\" font-size=\"14.00\" text-anchor=\"middle\" x=\"391.5\" y=\"-1110.3\">(None, 7, 7, 1)</text>\n<polyline fill=\"none\" points=\"340.5,-1102.5 442.5,-1102.5 \" stroke=\"#000000\"/>\n<text fill=\"#000000\" font-family=\"Times,serif\" font-size=\"14.00\" text-anchor=\"middle\" x=\"391.5\" y=\"-1087.3\">(None, 7, 7, 1)</text>\n</g>\n<!-- 140289036170464&#45;&gt;140289036169736 -->\n<g class=\"edge\" id=\"edge2\">\n<title>140289036170464-&gt;140289036169736</title>\n<path d=\"M227,-1162.3799C227,-1154.1745 227,-1144.7679 227,-1135.8786\" fill=\"none\" stroke=\"#000000\"/>\n<polygon fill=\"#000000\" points=\"230.5001,-1135.784 227,-1125.784 223.5001,-1135.784 230.5001,-1135.784\" stroke=\"#000000\"/>\n</g>\n<!-- 140289036170072 -->\n<g class=\"node\" id=\"node4\">\n<title>140289036170072</title>\n<polygon fill=\"none\" points=\"76.5,-996.5 76.5,-1042.5 377.5,-1042.5 377.5,-996.5 76.5,-996.5\" stroke=\"#000000\"/>\n<text fill=\"#000000\" font-family=\"Times,serif\" font-size=\"14.00\" text-anchor=\"middle\" x=\"143\" y=\"-1015.8\">conv2d_5: Conv2D</text>\n<polyline fill=\"none\" points=\"209.5,-996.5 209.5,-1042.5 \" stroke=\"#000000\"/>\n<text fill=\"#000000\" font-family=\"Times,serif\" font-size=\"14.00\" text-anchor=\"middle\" x=\"238.5\" y=\"-1027.3\">input:</text>\n<polyline fill=\"none\" points=\"209.5,-1019.5 267.5,-1019.5 \" stroke=\"#000000\"/>\n<text fill=\"#000000\" font-family=\"Times,serif\" font-size=\"14.00\" text-anchor=\"middle\" x=\"238.5\" y=\"-1004.3\">output:</text>\n<polyline fill=\"none\" points=\"267.5,-996.5 267.5,-1042.5 \" stroke=\"#000000\"/>\n<text fill=\"#000000\" font-family=\"Times,serif\" font-size=\"14.00\" text-anchor=\"middle\" x=\"322.5\" y=\"-1027.3\">(None, 7, 7, 1)</text>\n<polyline fill=\"none\" points=\"267.5,-1019.5 377.5,-1019.5 \" stroke=\"#000000\"/>\n<text fill=\"#000000\" font-family=\"Times,serif\" font-size=\"14.00\" text-anchor=\"middle\" x=\"322.5\" y=\"-1004.3\">(None, 7, 7, 16)</text>\n</g>\n<!-- 140289036169736&#45;&gt;140289036170072 -->\n<g class=\"edge\" id=\"edge3\">\n<title>140289036169736-&gt;140289036170072</title>\n<path d=\"M227,-1079.3799C227,-1071.1745 227,-1061.7679 227,-1052.8786\" fill=\"none\" stroke=\"#000000\"/>\n<polygon fill=\"#000000\" points=\"230.5001,-1052.784 227,-1042.784 223.5001,-1052.784 230.5001,-1052.784\" stroke=\"#000000\"/>\n</g>\n<!-- 140288950889776 -->\n<g class=\"node\" id=\"node5\">\n<title>140288950889776</title>\n<polygon fill=\"none\" points=\"25,-913.5 25,-959.5 429,-959.5 429,-913.5 25,-913.5\" stroke=\"#000000\"/>\n<text fill=\"#000000\" font-family=\"Times,serif\" font-size=\"14.00\" text-anchor=\"middle\" x=\"135.5\" y=\"-932.8\">up_sampling2d_3: UpSampling2D</text>\n<polyline fill=\"none\" points=\"246,-913.5 246,-959.5 \" stroke=\"#000000\"/>\n<text fill=\"#000000\" font-family=\"Times,serif\" font-size=\"14.00\" text-anchor=\"middle\" x=\"275\" y=\"-944.3\">input:</text>\n<polyline fill=\"none\" points=\"246,-936.5 304,-936.5 \" stroke=\"#000000\"/>\n<text fill=\"#000000\" font-family=\"Times,serif\" font-size=\"14.00\" text-anchor=\"middle\" x=\"275\" y=\"-921.3\">output:</text>\n<polyline fill=\"none\" points=\"304,-913.5 304,-959.5 \" stroke=\"#000000\"/>\n<text fill=\"#000000\" font-family=\"Times,serif\" font-size=\"14.00\" text-anchor=\"middle\" x=\"366.5\" y=\"-944.3\">(None, 7, 7, 16)</text>\n<polyline fill=\"none\" points=\"304,-936.5 429,-936.5 \" stroke=\"#000000\"/>\n<text fill=\"#000000\" font-family=\"Times,serif\" font-size=\"14.00\" text-anchor=\"middle\" x=\"366.5\" y=\"-921.3\">(None, 14, 14, 16)</text>\n</g>\n<!-- 140289036170072&#45;&gt;140288950889776 -->\n<g class=\"edge\" id=\"edge4\">\n<title>140289036170072-&gt;140288950889776</title>\n<path d=\"M227,-996.3799C227,-988.1745 227,-978.7679 227,-969.8786\" fill=\"none\" stroke=\"#000000\"/>\n<polygon fill=\"#000000\" points=\"230.5001,-969.784 227,-959.784 223.5001,-969.784 230.5001,-969.784\" stroke=\"#000000\"/>\n</g>\n<!-- 140288950543976 -->\n<g class=\"node\" id=\"node6\">\n<title>140288950543976</title>\n<polygon fill=\"none\" points=\"58.5,-830.5 58.5,-876.5 395.5,-876.5 395.5,-830.5 58.5,-830.5\" stroke=\"#000000\"/>\n<text fill=\"#000000\" font-family=\"Times,serif\" font-size=\"14.00\" text-anchor=\"middle\" x=\"135.5\" y=\"-849.8\">activation_7: Activation</text>\n<polyline fill=\"none\" points=\"212.5,-830.5 212.5,-876.5 \" stroke=\"#000000\"/>\n<text fill=\"#000000\" font-family=\"Times,serif\" font-size=\"14.00\" text-anchor=\"middle\" x=\"241.5\" y=\"-861.3\">input:</text>\n<polyline fill=\"none\" points=\"212.5,-853.5 270.5,-853.5 \" stroke=\"#000000\"/>\n<text fill=\"#000000\" font-family=\"Times,serif\" font-size=\"14.00\" text-anchor=\"middle\" x=\"241.5\" y=\"-838.3\">output:</text>\n<polyline fill=\"none\" points=\"270.5,-830.5 270.5,-876.5 \" stroke=\"#000000\"/>\n<text fill=\"#000000\" font-family=\"Times,serif\" font-size=\"14.00\" text-anchor=\"middle\" x=\"333\" y=\"-861.3\">(None, 14, 14, 16)</text>\n<polyline fill=\"none\" points=\"270.5,-853.5 395.5,-853.5 \" stroke=\"#000000\"/>\n<text fill=\"#000000\" font-family=\"Times,serif\" font-size=\"14.00\" text-anchor=\"middle\" x=\"333\" y=\"-838.3\">(None, 14, 14, 16)</text>\n</g>\n<!-- 140288950889776&#45;&gt;140288950543976 -->\n<g class=\"edge\" id=\"edge5\">\n<title>140288950889776-&gt;140288950543976</title>\n<path d=\"M227,-913.3799C227,-905.1745 227,-895.7679 227,-886.8786\" fill=\"none\" stroke=\"#000000\"/>\n<polygon fill=\"#000000\" points=\"230.5001,-886.784 227,-876.784 223.5001,-886.784 230.5001,-886.784\" stroke=\"#000000\"/>\n</g>\n<!-- 140288950124384 -->\n<g class=\"node\" id=\"node7\">\n<title>140288950124384</title>\n<polygon fill=\"none\" points=\"0,-747.5 0,-793.5 454,-793.5 454,-747.5 0,-747.5\" stroke=\"#000000\"/>\n<text fill=\"#000000\" font-family=\"Times,serif\" font-size=\"14.00\" text-anchor=\"middle\" x=\"135.5\" y=\"-766.8\">batch_normalization_6: BatchNormalization</text>\n<polyline fill=\"none\" points=\"271,-747.5 271,-793.5 \" stroke=\"#000000\"/>\n<text fill=\"#000000\" font-family=\"Times,serif\" font-size=\"14.00\" text-anchor=\"middle\" x=\"300\" y=\"-778.3\">input:</text>\n<polyline fill=\"none\" points=\"271,-770.5 329,-770.5 \" stroke=\"#000000\"/>\n<text fill=\"#000000\" font-family=\"Times,serif\" font-size=\"14.00\" text-anchor=\"middle\" x=\"300\" y=\"-755.3\">output:</text>\n<polyline fill=\"none\" points=\"329,-747.5 329,-793.5 \" stroke=\"#000000\"/>\n<text fill=\"#000000\" font-family=\"Times,serif\" font-size=\"14.00\" text-anchor=\"middle\" x=\"391.5\" y=\"-778.3\">(None, 14, 14, 16)</text>\n<polyline fill=\"none\" points=\"329,-770.5 454,-770.5 \" stroke=\"#000000\"/>\n<text fill=\"#000000\" font-family=\"Times,serif\" font-size=\"14.00\" text-anchor=\"middle\" x=\"391.5\" y=\"-755.3\">(None, 14, 14, 16)</text>\n</g>\n<!-- 140288950543976&#45;&gt;140288950124384 -->\n<g class=\"edge\" id=\"edge6\">\n<title>140288950543976-&gt;140288950124384</title>\n<path d=\"M227,-830.3799C227,-822.1745 227,-812.7679 227,-803.8786\" fill=\"none\" stroke=\"#000000\"/>\n<polygon fill=\"#000000\" points=\"230.5001,-803.784 227,-793.784 223.5001,-803.784 230.5001,-803.784\" stroke=\"#000000\"/>\n</g>\n<!-- 140288951125160 -->\n<g class=\"node\" id=\"node8\">\n<title>140288951125160</title>\n<polygon fill=\"none\" points=\"69,-664.5 69,-710.5 385,-710.5 385,-664.5 69,-664.5\" stroke=\"#000000\"/>\n<text fill=\"#000000\" font-family=\"Times,serif\" font-size=\"14.00\" text-anchor=\"middle\" x=\"135.5\" y=\"-683.8\">conv2d_6: Conv2D</text>\n<polyline fill=\"none\" points=\"202,-664.5 202,-710.5 \" stroke=\"#000000\"/>\n<text fill=\"#000000\" font-family=\"Times,serif\" font-size=\"14.00\" text-anchor=\"middle\" x=\"231\" y=\"-695.3\">input:</text>\n<polyline fill=\"none\" points=\"202,-687.5 260,-687.5 \" stroke=\"#000000\"/>\n<text fill=\"#000000\" font-family=\"Times,serif\" font-size=\"14.00\" text-anchor=\"middle\" x=\"231\" y=\"-672.3\">output:</text>\n<polyline fill=\"none\" points=\"260,-664.5 260,-710.5 \" stroke=\"#000000\"/>\n<text fill=\"#000000\" font-family=\"Times,serif\" font-size=\"14.00\" text-anchor=\"middle\" x=\"322.5\" y=\"-695.3\">(None, 14, 14, 16)</text>\n<polyline fill=\"none\" points=\"260,-687.5 385,-687.5 \" stroke=\"#000000\"/>\n<text fill=\"#000000\" font-family=\"Times,serif\" font-size=\"14.00\" text-anchor=\"middle\" x=\"322.5\" y=\"-672.3\">(None, 14, 14, 32)</text>\n</g>\n<!-- 140288950124384&#45;&gt;140288951125160 -->\n<g class=\"edge\" id=\"edge7\">\n<title>140288950124384-&gt;140288951125160</title>\n<path d=\"M227,-747.3799C227,-739.1745 227,-729.7679 227,-720.8786\" fill=\"none\" stroke=\"#000000\"/>\n<polygon fill=\"#000000\" points=\"230.5001,-720.784 227,-710.784 223.5001,-720.784 230.5001,-720.784\" stroke=\"#000000\"/>\n</g>\n<!-- 140288950298496 -->\n<g class=\"node\" id=\"node9\">\n<title>140288950298496</title>\n<polygon fill=\"none\" points=\"25,-581.5 25,-627.5 429,-627.5 429,-581.5 25,-581.5\" stroke=\"#000000\"/>\n<text fill=\"#000000\" font-family=\"Times,serif\" font-size=\"14.00\" text-anchor=\"middle\" x=\"135.5\" y=\"-600.8\">up_sampling2d_4: UpSampling2D</text>\n<polyline fill=\"none\" points=\"246,-581.5 246,-627.5 \" stroke=\"#000000\"/>\n<text fill=\"#000000\" font-family=\"Times,serif\" font-size=\"14.00\" text-anchor=\"middle\" x=\"275\" y=\"-612.3\">input:</text>\n<polyline fill=\"none\" points=\"246,-604.5 304,-604.5 \" stroke=\"#000000\"/>\n<text fill=\"#000000\" font-family=\"Times,serif\" font-size=\"14.00\" text-anchor=\"middle\" x=\"275\" y=\"-589.3\">output:</text>\n<polyline fill=\"none\" points=\"304,-581.5 304,-627.5 \" stroke=\"#000000\"/>\n<text fill=\"#000000\" font-family=\"Times,serif\" font-size=\"14.00\" text-anchor=\"middle\" x=\"366.5\" y=\"-612.3\">(None, 14, 14, 32)</text>\n<polyline fill=\"none\" points=\"304,-604.5 429,-604.5 \" stroke=\"#000000\"/>\n<text fill=\"#000000\" font-family=\"Times,serif\" font-size=\"14.00\" text-anchor=\"middle\" x=\"366.5\" y=\"-589.3\">(None, 28, 28, 32)</text>\n</g>\n<!-- 140288951125160&#45;&gt;140288950298496 -->\n<g class=\"edge\" id=\"edge8\">\n<title>140288951125160-&gt;140288950298496</title>\n<path d=\"M227,-664.3799C227,-656.1745 227,-646.7679 227,-637.8786\" fill=\"none\" stroke=\"#000000\"/>\n<polygon fill=\"#000000\" points=\"230.5001,-637.784 227,-627.784 223.5001,-637.784 230.5001,-637.784\" stroke=\"#000000\"/>\n</g>\n<!-- 140288949438000 -->\n<g class=\"node\" id=\"node10\">\n<title>140288949438000</title>\n<polygon fill=\"none\" points=\"58.5,-498.5 58.5,-544.5 395.5,-544.5 395.5,-498.5 58.5,-498.5\" stroke=\"#000000\"/>\n<text fill=\"#000000\" font-family=\"Times,serif\" font-size=\"14.00\" text-anchor=\"middle\" x=\"135.5\" y=\"-517.8\">activation_8: Activation</text>\n<polyline fill=\"none\" points=\"212.5,-498.5 212.5,-544.5 \" stroke=\"#000000\"/>\n<text fill=\"#000000\" font-family=\"Times,serif\" font-size=\"14.00\" text-anchor=\"middle\" x=\"241.5\" y=\"-529.3\">input:</text>\n<polyline fill=\"none\" points=\"212.5,-521.5 270.5,-521.5 \" stroke=\"#000000\"/>\n<text fill=\"#000000\" font-family=\"Times,serif\" font-size=\"14.00\" text-anchor=\"middle\" x=\"241.5\" y=\"-506.3\">output:</text>\n<polyline fill=\"none\" points=\"270.5,-498.5 270.5,-544.5 \" stroke=\"#000000\"/>\n<text fill=\"#000000\" font-family=\"Times,serif\" font-size=\"14.00\" text-anchor=\"middle\" x=\"333\" y=\"-529.3\">(None, 28, 28, 32)</text>\n<polyline fill=\"none\" points=\"270.5,-521.5 395.5,-521.5 \" stroke=\"#000000\"/>\n<text fill=\"#000000\" font-family=\"Times,serif\" font-size=\"14.00\" text-anchor=\"middle\" x=\"333\" y=\"-506.3\">(None, 28, 28, 32)</text>\n</g>\n<!-- 140288950298496&#45;&gt;140288949438000 -->\n<g class=\"edge\" id=\"edge9\">\n<title>140288950298496-&gt;140288949438000</title>\n<path d=\"M227,-581.3799C227,-573.1745 227,-563.7679 227,-554.8786\" fill=\"none\" stroke=\"#000000\"/>\n<polygon fill=\"#000000\" points=\"230.5001,-554.784 227,-544.784 223.5001,-554.784 230.5001,-554.784\" stroke=\"#000000\"/>\n</g>\n<!-- 140288949534504 -->\n<g class=\"node\" id=\"node11\">\n<title>140288949534504</title>\n<polygon fill=\"none\" points=\"0,-415.5 0,-461.5 454,-461.5 454,-415.5 0,-415.5\" stroke=\"#000000\"/>\n<text fill=\"#000000\" font-family=\"Times,serif\" font-size=\"14.00\" text-anchor=\"middle\" x=\"135.5\" y=\"-434.8\">batch_normalization_7: BatchNormalization</text>\n<polyline fill=\"none\" points=\"271,-415.5 271,-461.5 \" stroke=\"#000000\"/>\n<text fill=\"#000000\" font-family=\"Times,serif\" font-size=\"14.00\" text-anchor=\"middle\" x=\"300\" y=\"-446.3\">input:</text>\n<polyline fill=\"none\" points=\"271,-438.5 329,-438.5 \" stroke=\"#000000\"/>\n<text fill=\"#000000\" font-family=\"Times,serif\" font-size=\"14.00\" text-anchor=\"middle\" x=\"300\" y=\"-423.3\">output:</text>\n<polyline fill=\"none\" points=\"329,-415.5 329,-461.5 \" stroke=\"#000000\"/>\n<text fill=\"#000000\" font-family=\"Times,serif\" font-size=\"14.00\" text-anchor=\"middle\" x=\"391.5\" y=\"-446.3\">(None, 28, 28, 32)</text>\n<polyline fill=\"none\" points=\"329,-438.5 454,-438.5 \" stroke=\"#000000\"/>\n<text fill=\"#000000\" font-family=\"Times,serif\" font-size=\"14.00\" text-anchor=\"middle\" x=\"391.5\" y=\"-423.3\">(None, 28, 28, 32)</text>\n</g>\n<!-- 140288949438000&#45;&gt;140288949534504 -->\n<g class=\"edge\" id=\"edge10\">\n<title>140288949438000-&gt;140288949534504</title>\n<path d=\"M227,-498.3799C227,-490.1745 227,-480.7679 227,-471.8786\" fill=\"none\" stroke=\"#000000\"/>\n<polygon fill=\"#000000\" points=\"230.5001,-471.784 227,-461.784 223.5001,-471.784 230.5001,-471.784\" stroke=\"#000000\"/>\n</g>\n<!-- 140288950012840 -->\n<g class=\"node\" id=\"node12\">\n<title>140288950012840</title>\n<polygon fill=\"none\" points=\"69,-332.5 69,-378.5 385,-378.5 385,-332.5 69,-332.5\" stroke=\"#000000\"/>\n<text fill=\"#000000\" font-family=\"Times,serif\" font-size=\"14.00\" text-anchor=\"middle\" x=\"135.5\" y=\"-351.8\">conv2d_7: Conv2D</text>\n<polyline fill=\"none\" points=\"202,-332.5 202,-378.5 \" stroke=\"#000000\"/>\n<text fill=\"#000000\" font-family=\"Times,serif\" font-size=\"14.00\" text-anchor=\"middle\" x=\"231\" y=\"-363.3\">input:</text>\n<polyline fill=\"none\" points=\"202,-355.5 260,-355.5 \" stroke=\"#000000\"/>\n<text fill=\"#000000\" font-family=\"Times,serif\" font-size=\"14.00\" text-anchor=\"middle\" x=\"231\" y=\"-340.3\">output:</text>\n<polyline fill=\"none\" points=\"260,-332.5 260,-378.5 \" stroke=\"#000000\"/>\n<text fill=\"#000000\" font-family=\"Times,serif\" font-size=\"14.00\" text-anchor=\"middle\" x=\"322.5\" y=\"-363.3\">(None, 28, 28, 32)</text>\n<polyline fill=\"none\" points=\"260,-355.5 385,-355.5 \" stroke=\"#000000\"/>\n<text fill=\"#000000\" font-family=\"Times,serif\" font-size=\"14.00\" text-anchor=\"middle\" x=\"322.5\" y=\"-340.3\">(None, 28, 28, 64)</text>\n</g>\n<!-- 140288949534504&#45;&gt;140288950012840 -->\n<g class=\"edge\" id=\"edge11\">\n<title>140288949534504-&gt;140288950012840</title>\n<path d=\"M227,-415.3799C227,-407.1745 227,-397.7679 227,-388.8786\" fill=\"none\" stroke=\"#000000\"/>\n<polygon fill=\"#000000\" points=\"230.5001,-388.784 227,-378.784 223.5001,-388.784 230.5001,-388.784\" stroke=\"#000000\"/>\n</g>\n<!-- 140288949188424 -->\n<g class=\"node\" id=\"node13\">\n<title>140288949188424</title>\n<polygon fill=\"none\" points=\"58.5,-249.5 58.5,-295.5 395.5,-295.5 395.5,-249.5 58.5,-249.5\" stroke=\"#000000\"/>\n<text fill=\"#000000\" font-family=\"Times,serif\" font-size=\"14.00\" text-anchor=\"middle\" x=\"135.5\" y=\"-268.8\">activation_9: Activation</text>\n<polyline fill=\"none\" points=\"212.5,-249.5 212.5,-295.5 \" stroke=\"#000000\"/>\n<text fill=\"#000000\" font-family=\"Times,serif\" font-size=\"14.00\" text-anchor=\"middle\" x=\"241.5\" y=\"-280.3\">input:</text>\n<polyline fill=\"none\" points=\"212.5,-272.5 270.5,-272.5 \" stroke=\"#000000\"/>\n<text fill=\"#000000\" font-family=\"Times,serif\" font-size=\"14.00\" text-anchor=\"middle\" x=\"241.5\" y=\"-257.3\">output:</text>\n<polyline fill=\"none\" points=\"270.5,-249.5 270.5,-295.5 \" stroke=\"#000000\"/>\n<text fill=\"#000000\" font-family=\"Times,serif\" font-size=\"14.00\" text-anchor=\"middle\" x=\"333\" y=\"-280.3\">(None, 28, 28, 64)</text>\n<polyline fill=\"none\" points=\"270.5,-272.5 395.5,-272.5 \" stroke=\"#000000\"/>\n<text fill=\"#000000\" font-family=\"Times,serif\" font-size=\"14.00\" text-anchor=\"middle\" x=\"333\" y=\"-257.3\">(None, 28, 28, 64)</text>\n</g>\n<!-- 140288950012840&#45;&gt;140288949188424 -->\n<g class=\"edge\" id=\"edge12\">\n<title>140288950012840-&gt;140288949188424</title>\n<path d=\"M227,-332.3799C227,-324.1745 227,-314.7679 227,-305.8786\" fill=\"none\" stroke=\"#000000\"/>\n<polygon fill=\"#000000\" points=\"230.5001,-305.784 227,-295.784 223.5001,-305.784 230.5001,-305.784\" stroke=\"#000000\"/>\n</g>\n<!-- 140288949188144 -->\n<g class=\"node\" id=\"node14\">\n<title>140288949188144</title>\n<polygon fill=\"none\" points=\"0,-166.5 0,-212.5 454,-212.5 454,-166.5 0,-166.5\" stroke=\"#000000\"/>\n<text fill=\"#000000\" font-family=\"Times,serif\" font-size=\"14.00\" text-anchor=\"middle\" x=\"135.5\" y=\"-185.8\">batch_normalization_8: BatchNormalization</text>\n<polyline fill=\"none\" points=\"271,-166.5 271,-212.5 \" stroke=\"#000000\"/>\n<text fill=\"#000000\" font-family=\"Times,serif\" font-size=\"14.00\" text-anchor=\"middle\" x=\"300\" y=\"-197.3\">input:</text>\n<polyline fill=\"none\" points=\"271,-189.5 329,-189.5 \" stroke=\"#000000\"/>\n<text fill=\"#000000\" font-family=\"Times,serif\" font-size=\"14.00\" text-anchor=\"middle\" x=\"300\" y=\"-174.3\">output:</text>\n<polyline fill=\"none\" points=\"329,-166.5 329,-212.5 \" stroke=\"#000000\"/>\n<text fill=\"#000000\" font-family=\"Times,serif\" font-size=\"14.00\" text-anchor=\"middle\" x=\"391.5\" y=\"-197.3\">(None, 28, 28, 64)</text>\n<polyline fill=\"none\" points=\"329,-189.5 454,-189.5 \" stroke=\"#000000\"/>\n<text fill=\"#000000\" font-family=\"Times,serif\" font-size=\"14.00\" text-anchor=\"middle\" x=\"391.5\" y=\"-174.3\">(None, 28, 28, 64)</text>\n</g>\n<!-- 140288949188424&#45;&gt;140288949188144 -->\n<g class=\"edge\" id=\"edge13\">\n<title>140288949188424-&gt;140288949188144</title>\n<path d=\"M227,-249.3799C227,-241.1745 227,-231.7679 227,-222.8786\" fill=\"none\" stroke=\"#000000\"/>\n<polygon fill=\"#000000\" points=\"230.5001,-222.784 227,-212.784 223.5001,-222.784 230.5001,-222.784\" stroke=\"#000000\"/>\n</g>\n<!-- 140288948890480 -->\n<g class=\"node\" id=\"node15\">\n<title>140288948890480</title>\n<polygon fill=\"none\" points=\"69,-83.5 69,-129.5 385,-129.5 385,-83.5 69,-83.5\" stroke=\"#000000\"/>\n<text fill=\"#000000\" font-family=\"Times,serif\" font-size=\"14.00\" text-anchor=\"middle\" x=\"135.5\" y=\"-102.8\">conv2d_8: Conv2D</text>\n<polyline fill=\"none\" points=\"202,-83.5 202,-129.5 \" stroke=\"#000000\"/>\n<text fill=\"#000000\" font-family=\"Times,serif\" font-size=\"14.00\" text-anchor=\"middle\" x=\"231\" y=\"-114.3\">input:</text>\n<polyline fill=\"none\" points=\"202,-106.5 260,-106.5 \" stroke=\"#000000\"/>\n<text fill=\"#000000\" font-family=\"Times,serif\" font-size=\"14.00\" text-anchor=\"middle\" x=\"231\" y=\"-91.3\">output:</text>\n<polyline fill=\"none\" points=\"260,-83.5 260,-129.5 \" stroke=\"#000000\"/>\n<text fill=\"#000000\" font-family=\"Times,serif\" font-size=\"14.00\" text-anchor=\"middle\" x=\"322.5\" y=\"-114.3\">(None, 28, 28, 64)</text>\n<polyline fill=\"none\" points=\"260,-106.5 385,-106.5 \" stroke=\"#000000\"/>\n<text fill=\"#000000\" font-family=\"Times,serif\" font-size=\"14.00\" text-anchor=\"middle\" x=\"322.5\" y=\"-91.3\">(None, 28, 28, 1)</text>\n</g>\n<!-- 140288949188144&#45;&gt;140288948890480 -->\n<g class=\"edge\" id=\"edge14\">\n<title>140288949188144-&gt;140288948890480</title>\n<path d=\"M227,-166.3799C227,-158.1745 227,-148.7679 227,-139.8786\" fill=\"none\" stroke=\"#000000\"/>\n<polygon fill=\"#000000\" points=\"230.5001,-139.784 227,-129.784 223.5001,-139.784 230.5001,-139.784\" stroke=\"#000000\"/>\n</g>\n<!-- 140288948514208 -->\n<g class=\"node\" id=\"node16\">\n<title>140288948514208</title>\n<polygon fill=\"none\" points=\"59,-.5 59,-46.5 395,-46.5 395,-.5 59,-.5\" stroke=\"#000000\"/>\n<text fill=\"#000000\" font-family=\"Times,serif\" font-size=\"14.00\" text-anchor=\"middle\" x=\"139.5\" y=\"-19.8\">activation_10: Activation</text>\n<polyline fill=\"none\" points=\"220,-.5 220,-46.5 \" stroke=\"#000000\"/>\n<text fill=\"#000000\" font-family=\"Times,serif\" font-size=\"14.00\" text-anchor=\"middle\" x=\"249\" y=\"-31.3\">input:</text>\n<polyline fill=\"none\" points=\"220,-23.5 278,-23.5 \" stroke=\"#000000\"/>\n<text fill=\"#000000\" font-family=\"Times,serif\" font-size=\"14.00\" text-anchor=\"middle\" x=\"249\" y=\"-8.3\">output:</text>\n<polyline fill=\"none\" points=\"278,-.5 278,-46.5 \" stroke=\"#000000\"/>\n<text fill=\"#000000\" font-family=\"Times,serif\" font-size=\"14.00\" text-anchor=\"middle\" x=\"336.5\" y=\"-31.3\">(None, 28, 28, 1)</text>\n<polyline fill=\"none\" points=\"278,-23.5 395,-23.5 \" stroke=\"#000000\"/>\n<text fill=\"#000000\" font-family=\"Times,serif\" font-size=\"14.00\" text-anchor=\"middle\" x=\"336.5\" y=\"-8.3\">(None, 28, 28, 1)</text>\n</g>\n<!-- 140288948890480&#45;&gt;140288948514208 -->\n<g class=\"edge\" id=\"edge15\">\n<title>140288948890480-&gt;140288948514208</title>\n<path d=\"M227,-83.3799C227,-75.1745 227,-65.7679 227,-56.8786\" fill=\"none\" stroke=\"#000000\"/>\n<polygon fill=\"#000000\" points=\"230.5001,-56.784 227,-46.784 223.5001,-56.784 230.5001,-56.784\" stroke=\"#000000\"/>\n</g>\n</g>\n</svg>"
          },
          "metadata": {
            "tags": []
          },
          "execution_count": 28
        }
      ]
    },
    {
      "cell_type": "markdown",
      "metadata": {
        "id": "0gTsx4lZJpny",
        "colab_type": "text"
      },
      "source": [
        "## 訓練する"
      ]
    },
    {
      "cell_type": "code",
      "metadata": {
        "id": "b2nAMz13F3wQ",
        "colab_type": "code",
        "colab": {
          "base_uri": "https://localhost:8080/",
          "height": 583
        },
        "outputId": "55875262-1d5e-4200-8c10-7f476dcc19b3"
      },
      "source": [
        "hist = auto_encoder.fit(\n",
        "    x = x_input_train,\n",
        "    y = x_output_train,\n",
        "    epochs = 20,\n",
        "    batch_size=100,\n",
        "    validation_data = (x_input_val, x_output_val),\n",
        ")"
      ],
      "execution_count": 29,
      "outputs": [
        {
          "output_type": "stream",
          "text": [
            "Train on 50000 samples, validate on 10000 samples\n",
            "Epoch 1/20\n",
            "50000/50000 [==============================] - 365s 7ms/step - loss: 0.0078 - val_loss: 2.8067e-05\n",
            "Epoch 2/20\n",
            "50000/50000 [==============================] - 359s 7ms/step - loss: 4.3187e-05 - val_loss: 1.5931e-05\n",
            "Epoch 3/20\n",
            "50000/50000 [==============================] - 355s 7ms/step - loss: 1.5868e-05 - val_loss: 8.4384e-06\n",
            "Epoch 4/20\n",
            "50000/50000 [==============================] - 354s 7ms/step - loss: 8.0034e-06 - val_loss: 4.9166e-06\n",
            "Epoch 5/20\n",
            "50000/50000 [==============================] - 350s 7ms/step - loss: 4.6897e-06 - val_loss: 3.0985e-06\n",
            "Epoch 6/20\n",
            " 7700/50000 [===>..........................] - ETA: 4:41 - loss: 3.5452e-06"
          ],
          "name": "stdout"
        },
        {
          "output_type": "error",
          "ename": "KeyboardInterrupt",
          "evalue": "ignored",
          "traceback": [
            "\u001b[0;31m---------------------------------------------------------------------------\u001b[0m",
            "\u001b[0;31mKeyboardInterrupt\u001b[0m                         Traceback (most recent call last)",
            "\u001b[0;32m<ipython-input-29-cd66532f0d27>\u001b[0m in \u001b[0;36m<module>\u001b[0;34m()\u001b[0m\n\u001b[1;32m      4\u001b[0m     \u001b[0mepochs\u001b[0m \u001b[0;34m=\u001b[0m \u001b[0;36m20\u001b[0m\u001b[0;34m,\u001b[0m\u001b[0;34m\u001b[0m\u001b[0;34m\u001b[0m\u001b[0m\n\u001b[1;32m      5\u001b[0m     \u001b[0mbatch_size\u001b[0m\u001b[0;34m=\u001b[0m\u001b[0;36m100\u001b[0m\u001b[0;34m,\u001b[0m\u001b[0;34m\u001b[0m\u001b[0;34m\u001b[0m\u001b[0m\n\u001b[0;32m----> 6\u001b[0;31m     \u001b[0mvalidation_data\u001b[0m \u001b[0;34m=\u001b[0m \u001b[0;34m(\u001b[0m\u001b[0mx_input_val\u001b[0m\u001b[0;34m,\u001b[0m \u001b[0mx_output_val\u001b[0m\u001b[0;34m)\u001b[0m\u001b[0;34m,\u001b[0m\u001b[0;34m\u001b[0m\u001b[0;34m\u001b[0m\u001b[0m\n\u001b[0m\u001b[1;32m      7\u001b[0m )\n",
            "\u001b[0;32m/usr/local/lib/python3.6/dist-packages/keras/engine/training.py\u001b[0m in \u001b[0;36mfit\u001b[0;34m(self, x, y, batch_size, epochs, verbose, callbacks, validation_split, validation_data, shuffle, class_weight, sample_weight, initial_epoch, steps_per_epoch, validation_steps, **kwargs)\u001b[0m\n\u001b[1;32m   1037\u001b[0m                                         \u001b[0minitial_epoch\u001b[0m\u001b[0;34m=\u001b[0m\u001b[0minitial_epoch\u001b[0m\u001b[0;34m,\u001b[0m\u001b[0;34m\u001b[0m\u001b[0;34m\u001b[0m\u001b[0m\n\u001b[1;32m   1038\u001b[0m                                         \u001b[0msteps_per_epoch\u001b[0m\u001b[0;34m=\u001b[0m\u001b[0msteps_per_epoch\u001b[0m\u001b[0;34m,\u001b[0m\u001b[0;34m\u001b[0m\u001b[0;34m\u001b[0m\u001b[0m\n\u001b[0;32m-> 1039\u001b[0;31m                                         validation_steps=validation_steps)\n\u001b[0m\u001b[1;32m   1040\u001b[0m \u001b[0;34m\u001b[0m\u001b[0m\n\u001b[1;32m   1041\u001b[0m     def evaluate(self, x=None, y=None,\n",
            "\u001b[0;32m/usr/local/lib/python3.6/dist-packages/keras/engine/training_arrays.py\u001b[0m in \u001b[0;36mfit_loop\u001b[0;34m(model, f, ins, out_labels, batch_size, epochs, verbose, callbacks, val_f, val_ins, shuffle, callback_metrics, initial_epoch, steps_per_epoch, validation_steps)\u001b[0m\n\u001b[1;32m    197\u001b[0m                     \u001b[0mins_batch\u001b[0m\u001b[0;34m[\u001b[0m\u001b[0mi\u001b[0m\u001b[0;34m]\u001b[0m \u001b[0;34m=\u001b[0m \u001b[0mins_batch\u001b[0m\u001b[0;34m[\u001b[0m\u001b[0mi\u001b[0m\u001b[0;34m]\u001b[0m\u001b[0;34m.\u001b[0m\u001b[0mtoarray\u001b[0m\u001b[0;34m(\u001b[0m\u001b[0;34m)\u001b[0m\u001b[0;34m\u001b[0m\u001b[0;34m\u001b[0m\u001b[0m\n\u001b[1;32m    198\u001b[0m \u001b[0;34m\u001b[0m\u001b[0m\n\u001b[0;32m--> 199\u001b[0;31m                 \u001b[0mouts\u001b[0m \u001b[0;34m=\u001b[0m \u001b[0mf\u001b[0m\u001b[0;34m(\u001b[0m\u001b[0mins_batch\u001b[0m\u001b[0;34m)\u001b[0m\u001b[0;34m\u001b[0m\u001b[0;34m\u001b[0m\u001b[0m\n\u001b[0m\u001b[1;32m    200\u001b[0m                 \u001b[0mouts\u001b[0m \u001b[0;34m=\u001b[0m \u001b[0mto_list\u001b[0m\u001b[0;34m(\u001b[0m\u001b[0mouts\u001b[0m\u001b[0;34m)\u001b[0m\u001b[0;34m\u001b[0m\u001b[0;34m\u001b[0m\u001b[0m\n\u001b[1;32m    201\u001b[0m                 \u001b[0;32mfor\u001b[0m \u001b[0ml\u001b[0m\u001b[0;34m,\u001b[0m \u001b[0mo\u001b[0m \u001b[0;32min\u001b[0m \u001b[0mzip\u001b[0m\u001b[0;34m(\u001b[0m\u001b[0mout_labels\u001b[0m\u001b[0;34m,\u001b[0m \u001b[0mouts\u001b[0m\u001b[0;34m)\u001b[0m\u001b[0;34m:\u001b[0m\u001b[0;34m\u001b[0m\u001b[0;34m\u001b[0m\u001b[0m\n",
            "\u001b[0;32m/usr/local/lib/python3.6/dist-packages/keras/backend/tensorflow_backend.py\u001b[0m in \u001b[0;36m__call__\u001b[0;34m(self, inputs)\u001b[0m\n\u001b[1;32m   2713\u001b[0m                 \u001b[0;32mreturn\u001b[0m \u001b[0mself\u001b[0m\u001b[0;34m.\u001b[0m\u001b[0m_legacy_call\u001b[0m\u001b[0;34m(\u001b[0m\u001b[0minputs\u001b[0m\u001b[0;34m)\u001b[0m\u001b[0;34m\u001b[0m\u001b[0;34m\u001b[0m\u001b[0m\n\u001b[1;32m   2714\u001b[0m \u001b[0;34m\u001b[0m\u001b[0m\n\u001b[0;32m-> 2715\u001b[0;31m             \u001b[0;32mreturn\u001b[0m \u001b[0mself\u001b[0m\u001b[0;34m.\u001b[0m\u001b[0m_call\u001b[0m\u001b[0;34m(\u001b[0m\u001b[0minputs\u001b[0m\u001b[0;34m)\u001b[0m\u001b[0;34m\u001b[0m\u001b[0;34m\u001b[0m\u001b[0m\n\u001b[0m\u001b[1;32m   2716\u001b[0m         \u001b[0;32melse\u001b[0m\u001b[0;34m:\u001b[0m\u001b[0;34m\u001b[0m\u001b[0;34m\u001b[0m\u001b[0m\n\u001b[1;32m   2717\u001b[0m             \u001b[0;32mif\u001b[0m \u001b[0mpy_any\u001b[0m\u001b[0;34m(\u001b[0m\u001b[0mis_tensor\u001b[0m\u001b[0;34m(\u001b[0m\u001b[0mx\u001b[0m\u001b[0;34m)\u001b[0m \u001b[0;32mfor\u001b[0m \u001b[0mx\u001b[0m \u001b[0;32min\u001b[0m \u001b[0minputs\u001b[0m\u001b[0;34m)\u001b[0m\u001b[0;34m:\u001b[0m\u001b[0;34m\u001b[0m\u001b[0;34m\u001b[0m\u001b[0m\n",
            "\u001b[0;32m/usr/local/lib/python3.6/dist-packages/keras/backend/tensorflow_backend.py\u001b[0m in \u001b[0;36m_call\u001b[0;34m(self, inputs)\u001b[0m\n\u001b[1;32m   2673\u001b[0m             \u001b[0mfetched\u001b[0m \u001b[0;34m=\u001b[0m \u001b[0mself\u001b[0m\u001b[0;34m.\u001b[0m\u001b[0m_callable_fn\u001b[0m\u001b[0;34m(\u001b[0m\u001b[0;34m*\u001b[0m\u001b[0marray_vals\u001b[0m\u001b[0;34m,\u001b[0m \u001b[0mrun_metadata\u001b[0m\u001b[0;34m=\u001b[0m\u001b[0mself\u001b[0m\u001b[0;34m.\u001b[0m\u001b[0mrun_metadata\u001b[0m\u001b[0;34m)\u001b[0m\u001b[0;34m\u001b[0m\u001b[0;34m\u001b[0m\u001b[0m\n\u001b[1;32m   2674\u001b[0m         \u001b[0;32melse\u001b[0m\u001b[0;34m:\u001b[0m\u001b[0;34m\u001b[0m\u001b[0;34m\u001b[0m\u001b[0m\n\u001b[0;32m-> 2675\u001b[0;31m             \u001b[0mfetched\u001b[0m \u001b[0;34m=\u001b[0m \u001b[0mself\u001b[0m\u001b[0;34m.\u001b[0m\u001b[0m_callable_fn\u001b[0m\u001b[0;34m(\u001b[0m\u001b[0;34m*\u001b[0m\u001b[0marray_vals\u001b[0m\u001b[0;34m)\u001b[0m\u001b[0;34m\u001b[0m\u001b[0;34m\u001b[0m\u001b[0m\n\u001b[0m\u001b[1;32m   2676\u001b[0m         \u001b[0;32mreturn\u001b[0m \u001b[0mfetched\u001b[0m\u001b[0;34m[\u001b[0m\u001b[0;34m:\u001b[0m\u001b[0mlen\u001b[0m\u001b[0;34m(\u001b[0m\u001b[0mself\u001b[0m\u001b[0;34m.\u001b[0m\u001b[0moutputs\u001b[0m\u001b[0;34m)\u001b[0m\u001b[0;34m]\u001b[0m\u001b[0;34m\u001b[0m\u001b[0;34m\u001b[0m\u001b[0m\n\u001b[1;32m   2677\u001b[0m \u001b[0;34m\u001b[0m\u001b[0m\n",
            "\u001b[0;32m/usr/local/lib/python3.6/dist-packages/tensorflow/python/client/session.py\u001b[0m in \u001b[0;36m__call__\u001b[0;34m(self, *args, **kwargs)\u001b[0m\n\u001b[1;32m   1456\u001b[0m         ret = tf_session.TF_SessionRunCallable(self._session._session,\n\u001b[1;32m   1457\u001b[0m                                                \u001b[0mself\u001b[0m\u001b[0;34m.\u001b[0m\u001b[0m_handle\u001b[0m\u001b[0;34m,\u001b[0m \u001b[0margs\u001b[0m\u001b[0;34m,\u001b[0m\u001b[0;34m\u001b[0m\u001b[0;34m\u001b[0m\u001b[0m\n\u001b[0;32m-> 1458\u001b[0;31m                                                run_metadata_ptr)\n\u001b[0m\u001b[1;32m   1459\u001b[0m         \u001b[0;32mif\u001b[0m \u001b[0mrun_metadata\u001b[0m\u001b[0;34m:\u001b[0m\u001b[0;34m\u001b[0m\u001b[0;34m\u001b[0m\u001b[0m\n\u001b[1;32m   1460\u001b[0m           \u001b[0mproto_data\u001b[0m \u001b[0;34m=\u001b[0m \u001b[0mtf_session\u001b[0m\u001b[0;34m.\u001b[0m\u001b[0mTF_GetBuffer\u001b[0m\u001b[0;34m(\u001b[0m\u001b[0mrun_metadata_ptr\u001b[0m\u001b[0;34m)\u001b[0m\u001b[0;34m\u001b[0m\u001b[0;34m\u001b[0m\u001b[0m\n",
            "\u001b[0;31mKeyboardInterrupt\u001b[0m: "
          ]
        }
      ]
    }
  ]
}